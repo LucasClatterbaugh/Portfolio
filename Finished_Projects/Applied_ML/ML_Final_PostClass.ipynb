{
 "cells": [
  {
   "cell_type": "code",
   "execution_count": 1,
   "id": "b495c31f",
   "metadata": {},
   "outputs": [],
   "source": [
    "import tensorflow as tf\n",
    "from tensorflow.keras.utils import image_dataset_from_directory"
   ]
  },
  {
   "cell_type": "code",
   "execution_count": 2,
   "id": "c9ee188c",
   "metadata": {},
   "outputs": [],
   "source": [
    "#data = tf.keras.utils.image_dataset_from_directory('images')"
   ]
  },
  {
   "cell_type": "code",
   "execution_count": 3,
   "id": "678f816f",
   "metadata": {},
   "outputs": [
    {
     "name": "stdout",
     "output_type": "stream",
     "text": [
      "Found 52800 files belonging to 17600 classes.\n"
     ]
    }
   ],
   "source": [
    "# Path to your dataset directory\n",
    "dataset_dir = 'images'\n",
    "\n",
    "# Define your batch size and image size\n",
    "batch_size = 32\n",
    "image_size = (256, 256)\n",
    "\n",
    "# Function to extract class name from directory name\n",
    "image_dataset = image_dataset_from_directory(\n",
    "    dataset_dir,\n",
    "    labels='inferred',\n",
    "    label_mode='int',  # We will map class names to integers manually\n",
    "    batch_size=batch_size,\n",
    "    image_size=image_size,\n",
    "    shuffle=False,\n",
    ")\n",
    "\n",
    "# Extract class names from dataset directory names\n",
    "class_names = sorted(image_dataset.class_names, key=lambda name: int(name.split(',')[0].strip()))"
   ]
  },
  {
   "cell_type": "code",
   "execution_count": 4,
   "id": "9ad86315",
   "metadata": {},
   "outputs": [],
   "source": [
    "values_before_comma = [item.split(',')[0] for item in class_names]"
   ]
  },
  {
   "cell_type": "code",
   "execution_count": 5,
   "id": "6918e31b",
   "metadata": {},
   "outputs": [],
   "source": [
    "values_before_comma.sort()"
   ]
  },
  {
   "cell_type": "code",
   "execution_count": 6,
   "id": "ad94c2b8",
   "metadata": {},
   "outputs": [],
   "source": [
    "expanded_list = [val for val in values_before_comma for _ in range(3)]\n",
    "labels_numeric = [int(label) for label in expanded_list]"
   ]
  },
  {
   "cell_type": "code",
   "execution_count": 7,
   "id": "e016b837",
   "metadata": {},
   "outputs": [
    {
     "data": {
      "text/plain": [
       "0"
      ]
     },
     "execution_count": 7,
     "metadata": {},
     "output_type": "execute_result"
    }
   ],
   "source": [
    "labels_numeric[0]"
   ]
  },
  {
   "cell_type": "code",
   "execution_count": 8,
   "id": "46745c13",
   "metadata": {},
   "outputs": [
    {
     "name": "stdout",
     "output_type": "stream",
     "text": [
      "Found 52800 files belonging to 88 classes.\n"
     ]
    }
   ],
   "source": [
    "image_dataset = image_dataset_from_directory(\n",
    "    dataset_dir,\n",
    "    labels=labels_numeric,\n",
    "    \n",
    "    label_mode='int',  \n",
    "    batch_size=batch_size,\n",
    "    image_size=image_size,\n",
    "    shuffle=True,\n",
    ")"
   ]
  },
  {
   "cell_type": "code",
   "execution_count": 9,
   "id": "4b754adf",
   "metadata": {},
   "outputs": [],
   "source": [
    "image_iterator = image_dataset.as_numpy_iterator()"
   ]
  },
  {
   "cell_type": "code",
   "execution_count": 10,
   "id": "592795e1",
   "metadata": {},
   "outputs": [],
   "source": [
    "batch = image_iterator.next()"
   ]
  },
  {
   "cell_type": "code",
   "execution_count": 11,
   "id": "949f9bdb",
   "metadata": {},
   "outputs": [
    {
     "data": {
      "text/plain": [
       "16"
      ]
     },
     "execution_count": 11,
     "metadata": {},
     "output_type": "execute_result"
    }
   ],
   "source": [
    "batch[1][0]"
   ]
  },
  {
   "cell_type": "markdown",
   "id": "6612a87e",
   "metadata": {},
   "source": [
    "## Prepocess Data"
   ]
  },
  {
   "cell_type": "code",
   "execution_count": 12,
   "id": "1e793836",
   "metadata": {},
   "outputs": [],
   "source": [
    "data = image_dataset.map(lambda x,y:(x/255,y)) #Scale data from 0 to 1"
   ]
  },
  {
   "cell_type": "code",
   "execution_count": 13,
   "id": "bdd9d7ae",
   "metadata": {},
   "outputs": [
    {
     "data": {
      "text/plain": [
       "1650"
      ]
     },
     "execution_count": 13,
     "metadata": {},
     "output_type": "execute_result"
    }
   ],
   "source": [
    "len(data) #checking to see how many batches I have in my dataset "
   ]
  },
  {
   "cell_type": "code",
   "execution_count": 14,
   "id": "ab3504fd",
   "metadata": {},
   "outputs": [],
   "source": [
    "train_size = int(len(data)*.7)\n",
    "val_size = int(len(data)*.2)\n",
    "test_size = int(len(data)*.1)"
   ]
  },
  {
   "cell_type": "code",
   "execution_count": 15,
   "id": "51463cb4",
   "metadata": {},
   "outputs": [
    {
     "data": {
      "text/plain": [
       "1650"
      ]
     },
     "execution_count": 15,
     "metadata": {},
     "output_type": "execute_result"
    }
   ],
   "source": [
    "train_size + val_size + test_size"
   ]
  },
  {
   "cell_type": "code",
   "execution_count": 16,
   "id": "9f5eced9",
   "metadata": {},
   "outputs": [],
   "source": [
    "train = data.take(train_size)\n",
    "val = data.skip(train_size).take(val_size)\n",
    "test = data.skip(train_size+val_size).take(test_size)"
   ]
  },
  {
   "cell_type": "markdown",
   "id": "3cff64f9",
   "metadata": {},
   "source": [
    "## Building deep learning model"
   ]
  },
  {
   "cell_type": "code",
   "execution_count": 17,
   "id": "9fb7bd03",
   "metadata": {},
   "outputs": [],
   "source": [
    "from tensorflow.keras.models import Sequential \n",
    "from tensorflow.keras.layers import Conv2D, MaxPooling2D, Dense, Flatten, Dropout"
   ]
  },
  {
   "cell_type": "code",
   "execution_count": 53,
   "id": "9927963c",
   "metadata": {},
   "outputs": [],
   "source": [
    "model = Sequential()"
   ]
  },
  {
   "cell_type": "code",
   "execution_count": 54,
   "id": "3744e29b",
   "metadata": {},
   "outputs": [],
   "source": [
    "#Adding two layers, Convultion with 16 filters (3x3 size), stride of 1.Relu activation Its my first layer so I need my input shape\n",
    "#MaxPooling layer, takes max value from Convultion layer from a region in a 2x2 region to reduce image data\n",
    "model.add(Conv2D(16,(3,3),1,activation='relu',input_shape=(256,256,3)))\n",
    "model.add(MaxPooling2D())\n",
    "\n",
    "\n",
    "model.add(Conv2D(32,(3,3),1,activation='relu'))\n",
    "model.add(MaxPooling2D())\n",
    "\n",
    "model.add(Conv2D(16,(3,3),1,activation='relu'))\n",
    "model.add(MaxPooling2D())\n",
    "\n",
    "#Flatten the data for our dense layer \n",
    "model.add(Flatten())\n",
    "\n",
    "#Fully conected layers \n",
    "model.add(Dense(256,activation='relu'))\n",
    "# 1 final output layer for my 88 classes\n",
    "model.add(Dense(88,activation='softmax'))"
   ]
  },
  {
   "cell_type": "code",
   "execution_count": 55,
   "id": "1ae43c0a",
   "metadata": {},
   "outputs": [],
   "source": [
    "model.compile('adam',loss= tf.losses.SparseCategoricalCrossentropy(from_logits = True),metrics=['accuracy'])"
   ]
  },
  {
   "cell_type": "code",
   "execution_count": 56,
   "id": "5d7e6e67",
   "metadata": {},
   "outputs": [
    {
     "name": "stdout",
     "output_type": "stream",
     "text": [
      "Model: \"sequential_6\"\n",
      "_________________________________________________________________\n",
      " Layer (type)                Output Shape              Param #   \n",
      "=================================================================\n",
      " conv2d_15 (Conv2D)          (None, 254, 254, 16)      448       \n",
      "                                                                 \n",
      " max_pooling2d_15 (MaxPooli  (None, 127, 127, 16)      0         \n",
      " ng2D)                                                           \n",
      "                                                                 \n",
      " conv2d_16 (Conv2D)          (None, 125, 125, 32)      4640      \n",
      "                                                                 \n",
      " max_pooling2d_16 (MaxPooli  (None, 62, 62, 32)        0         \n",
      " ng2D)                                                           \n",
      "                                                                 \n",
      " conv2d_17 (Conv2D)          (None, 60, 60, 16)        4624      \n",
      "                                                                 \n",
      " max_pooling2d_17 (MaxPooli  (None, 30, 30, 16)        0         \n",
      " ng2D)                                                           \n",
      "                                                                 \n",
      " flatten_5 (Flatten)         (None, 14400)             0         \n",
      "                                                                 \n",
      " dense_10 (Dense)            (None, 256)               3686656   \n",
      "                                                                 \n",
      " dense_11 (Dense)            (None, 88)                22616     \n",
      "                                                                 \n",
      "=================================================================\n",
      "Total params: 3718984 (14.19 MB)\n",
      "Trainable params: 3718984 (14.19 MB)\n",
      "Non-trainable params: 0 (0.00 Byte)\n",
      "_________________________________________________________________\n"
     ]
    }
   ],
   "source": [
    "model.summary()"
   ]
  },
  {
   "cell_type": "markdown",
   "id": "db1ff4f9",
   "metadata": {},
   "source": [
    "## Training the Model"
   ]
  },
  {
   "cell_type": "code",
   "execution_count": 57,
   "id": "e2c50f6d",
   "metadata": {},
   "outputs": [],
   "source": [
    "logdir = 'logs'"
   ]
  },
  {
   "cell_type": "code",
   "execution_count": 58,
   "id": "aee70ef7",
   "metadata": {},
   "outputs": [],
   "source": [
    "tensorboard_callback = tf.keras.callbacks.TensorBoard(log_dir=logdir) #Allows us to save model at a certain checkpoint"
   ]
  },
  {
   "cell_type": "code",
   "execution_count": 59,
   "id": "3c69c29d",
   "metadata": {},
   "outputs": [
    {
     "name": "stdout",
     "output_type": "stream",
     "text": [
      "Epoch 1/15\n",
      "1155/1155 [==============================] - 1260s 1s/step - loss: 4.3862 - accuracy: 0.0241 - val_loss: 4.2387 - val_accuracy: 0.0381\n",
      "Epoch 2/15\n",
      "1155/1155 [==============================] - 1132s 979ms/step - loss: 4.0847 - accuracy: 0.0587 - val_loss: 4.1122 - val_accuracy: 0.0532\n",
      "Epoch 3/15\n",
      "1155/1155 [==============================] - 1133s 981ms/step - loss: 3.6991 - accuracy: 0.1252 - val_loss: 4.1850 - val_accuracy: 0.0580\n",
      "Epoch 4/15\n",
      "1155/1155 [==============================] - 1070s 926ms/step - loss: 2.8753 - accuracy: 0.2873 - val_loss: 4.8530 - val_accuracy: 0.0503\n",
      "Epoch 5/15\n",
      "1155/1155 [==============================] - 1135s 982ms/step - loss: 1.8260 - accuracy: 0.5324 - val_loss: 5.8980 - val_accuracy: 0.0507\n",
      "Epoch 6/15\n",
      "1155/1155 [==============================] - 1110s 961ms/step - loss: 1.0282 - accuracy: 0.7280 - val_loss: 7.7419 - val_accuracy: 0.0535\n",
      "Epoch 7/15\n",
      "1155/1155 [==============================] - 1071s 927ms/step - loss: 0.6001 - accuracy: 0.8377 - val_loss: 9.3417 - val_accuracy: 0.0522\n",
      "Epoch 8/15\n",
      "1155/1155 [==============================] - 1138s 985ms/step - loss: 0.3906 - accuracy: 0.8910 - val_loss: 11.2761 - val_accuracy: 0.0530\n",
      "Epoch 9/15\n",
      "1155/1155 [==============================] - 1090s 943ms/step - loss: 0.3057 - accuracy: 0.9139 - val_loss: 12.9530 - val_accuracy: 0.0569\n",
      "Epoch 10/15\n",
      "1155/1155 [==============================] - 1114s 964ms/step - loss: 0.2477 - accuracy: 0.9303 - val_loss: 13.6822 - val_accuracy: 0.0561\n",
      "Epoch 11/15\n",
      "1155/1155 [==============================] - 1101s 953ms/step - loss: 0.2116 - accuracy: 0.9401 - val_loss: 14.1327 - val_accuracy: 0.0555\n",
      "Epoch 12/15\n",
      "1155/1155 [==============================] - 1330s 1s/step - loss: 0.1805 - accuracy: 0.9480 - val_loss: 15.3620 - val_accuracy: 0.0567\n",
      "Epoch 13/15\n",
      "1155/1155 [==============================] - 1219s 1s/step - loss: 0.1630 - accuracy: 0.9542 - val_loss: 15.8248 - val_accuracy: 0.0578\n",
      "Epoch 14/15\n",
      "1155/1155 [==============================] - 1212s 1s/step - loss: 0.1457 - accuracy: 0.9585 - val_loss: 16.2988 - val_accuracy: 0.0576\n",
      "Epoch 15/15\n",
      "1155/1155 [==============================] - 1216s 1s/step - loss: 0.1395 - accuracy: 0.9592 - val_loss: 17.5804 - val_accuracy: 0.0570\n"
     ]
    }
   ],
   "source": [
    "hist = model.fit(train,epochs = 15, validation_data = val, callbacks =[tensorboard_callback])"
   ]
  },
  {
   "cell_type": "code",
   "execution_count": 61,
   "id": "00fd1f58",
   "metadata": {},
   "outputs": [],
   "source": [
    "import matplotlib.pyplot as plt "
   ]
  },
  {
   "cell_type": "code",
   "execution_count": 62,
   "id": "2db83ebf",
   "metadata": {},
   "outputs": [
    {
     "data": {
      "image/png": "[encoded data removed]",
      "text/plain": [
       "<Figure size 640x480 with 1 Axes>"
      ]
     },
     "metadata": {},
     "output_type": "display_data"
    }
   ],
   "source": [
    "fig = plt.figure()\n",
    "plt.plot(hist.history['loss'], color='teal', label='loss')\n",
    "plt.plot(hist.history['val_loss'], color='orange', label='val_loss')\n",
    "fig.suptitle('Loss', fontsize=20)\n",
    "plt.legend(loc=\"upper left\")\n",
    "plt.show()"
   ]
  },
  {
   "cell_type": "code",
   "execution_count": 63,
   "id": "e8e9c851",
   "metadata": {},
   "outputs": [
    {
     "data": {
      "image/png": "[encoded data removed]",
      "text/plain": [
       "<Figure size 640x480 with 1 Axes>"
      ]
     },
     "metadata": {},
     "output_type": "display_data"
    }
   ],
   "source": [
    "fig = plt.figure()\n",
    "plt.plot(hist.history['accuracy'], color='teal', label='accuracy')\n",
    "plt.plot(hist.history['val_accuracy'], color='orange', label='val_accuracy')\n",
    "fig.suptitle('Accuracy', fontsize=20)\n",
    "plt.legend(loc=\"upper left\")\n",
    "plt.show()"
   ]
  }
 ],
 "metadata": {
  "kernelspec": {
   "display_name": "Python 3",
   "language": "python",
   "name": "python3"
  },
  "language_info": {
   "codemirror_mode": {
    "name": "ipython",
    "version": 3
   },
   "file_extension": ".py",
   "mimetype": "text/x-python",
   "name": "python",
   "nbconvert_exporter": "python",
   "pygments_lexer": "ipython3",
   "version": "3.9.13"
  }
 },
 "nbformat": 4,
 "nbformat_minor": 5
}
