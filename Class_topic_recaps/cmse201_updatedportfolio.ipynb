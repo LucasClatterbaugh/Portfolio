{
 "cells": [
  {
   "cell_type": "markdown",
   "id": "45f11175",
   "metadata": {},
   "source": [
    "# Code Portfolio from my first coding class, CMSE 201"
   ]
  },
  {
   "cell_type": "markdown",
   "id": "f2a066d0",
   "metadata": {},
   "source": [
    "## Fundamentals"
   ]
  },
  {
   "cell_type": "markdown",
   "id": "4fb12998",
   "metadata": {},
   "source": [
    "Mutable vs immutable objects: A mutable object can be changed once created such as lists and dictionaries, while an immutable object cannot be changed once creates such as strings, integers, and tuples"
   ]
  },
  {
   "cell_type": "markdown",
   "id": "94ead638",
   "metadata": {},
   "source": [
    "for vs while loops. Different ways to create loops in python. for loops will do an action for the length of the object. A while loop will go until a requirement is met. "
   ]
  },
  {
   "cell_type": "markdown",
   "id": "ba64f44c",
   "metadata": {},
   "source": [
    "if then statements,"
   ]
  },
  {
   "cell_type": "markdown",
   "id": "5bc9dd5f",
   "metadata": {},
   "source": [
    "functions "
   ]
  },
  {
   "cell_type": "markdown",
   "id": "e7b6d8d0",
   "metadata": {},
   "source": [
    "plotting "
   ]
  },
  {
   "cell_type": "code",
   "execution_count": 10,
   "id": "ca516512",
   "metadata": {},
   "outputs": [],
   "source": [
    "import matplotlib.pyplot as plt\n",
    "%matplotlib inline"
   ]
  },
  {
   "cell_type": "markdown",
   "id": "acd83193",
   "metadata": {},
   "source": [
    "## Fundamental packages"
   ]
  },
  {
   "cell_type": "markdown",
   "id": "6dc60459",
   "metadata": {},
   "source": [
    "### Numpy"
   ]
  },
  {
   "cell_type": "code",
   "execution_count": 4,
   "id": "81b200e3",
   "metadata": {},
   "outputs": [],
   "source": [
    "import numpy as np #import function \n",
    "#object_name = np.loadtext('filename.csv',usecols,unpack=True,delimiter) #standard numpy function to load an excel file "
   ]
  },
  {
   "cell_type": "markdown",
   "id": "14106fb9",
   "metadata": {},
   "source": [
    "numpy has many useful functions for using math operations, and creating arrays. With examples such as np.std() for standard deviation"
   ]
  },
  {
   "cell_type": "markdown",
   "id": "ddd5bee7",
   "metadata": {},
   "source": [
    "### Pandas"
   ]
  },
  {
   "cell_type": "code",
   "execution_count": 5,
   "id": "8661e9e1",
   "metadata": {},
   "outputs": [],
   "source": [
    "import pandas as pd #import function"
   ]
  },
  {
   "cell_type": "code",
   "execution_count": 6,
   "id": "a21d124f",
   "metadata": {},
   "outputs": [],
   "source": [
    "#pandas_df = pd.read_csv('filename.csv, skiprows = int, delimter = ',')"
   ]
  },
  {
   "cell_type": "markdown",
   "id": "8d28a332",
   "metadata": {},
   "source": [
    "Like numpy's loadtext function pandas has a similar function. However Pandas loads the object as a pandas dataframe and numpy creates an array. Pandas is built on top of numpy. Pandas is better for data visualization (cleaning and manipulation of data) while numpy is better for mathematics "
   ]
  },
  {
   "cell_type": "markdown",
   "id": "60458dc0",
   "metadata": {},
   "source": [
    "### Masking "
   ]
  },
  {
   "cell_type": "markdown",
   "id": "a08a1f38",
   "metadata": {},
   "source": [
    "Masking is a tool that allows use to select specific parts of our data. Below is a basic example of when masking can be used and why it is efficient "
   ]
  },
  {
   "cell_type": "code",
   "execution_count": 7,
   "id": "1b5ee862",
   "metadata": {},
   "outputs": [
    {
     "name": "stdout",
     "output_type": "stream",
     "text": [
      "[11, 9, 12, 11, 15, 13]\n",
      "[11  9 12 11 15 13]\n"
     ]
    }
   ],
   "source": [
    "vals = np.array([3, 11, 6, 9, 7, 12, 8, 11, 5, 3, 15, 13]) #creates an array of values\n",
    "higher=[] #creates an empty list, that is later filled in by the loop below\n",
    "for i in vals: #loops through every value in the arry\n",
    "    if i > 8: #if statement that only takes values higher than \n",
    "        higher.append(i) #appends all of those values to the empty list, one at a time   \n",
    "print(higher)  \n",
    "#below is code achieving the same task but using masking\n",
    "mask = vals > 8 #the mask's requirement is being set at anyvalue above 8, note the masks values are boolean \n",
    "vals_masked = vals[mask] #creating the array of values above 8\n",
    "print(vals_masked)"
   ]
  },
  {
   "cell_type": "markdown",
   "id": "bb0f10eb",
   "metadata": {},
   "source": [
    "## Fitting, Visualization, Agent based modeling"
   ]
  },
  {
   "cell_type": "markdown",
   "id": "9995cd09",
   "metadata": {},
   "source": [
    "### Fitting"
   ]
  },
  {
   "cell_type": "code",
   "execution_count": 8,
   "id": "35bf227e",
   "metadata": {},
   "outputs": [],
   "source": [
    "from scipy.optimize import curve_fit #importing a function from scipy"
   ]
  },
  {
   "cell_type": "markdown",
   "id": "9b66c2f1",
   "metadata": {},
   "source": [
    "population growth model example formula \n",
    "P = population, C = Carrying capacity, k = growth rate coefficient\n",
    "\n",
    "$$P(t) = \\frac{C}{1 + Ae^{-kt}}$$\n",
    "\n",
    "where \n",
    "\n",
    "$$A = \\frac{C-P_{init}}{P_{init}}$$"
   ]
  },
  {
   "cell_type": "code",
   "execution_count": 11,
   "id": "16a2e80e",
   "metadata": {},
   "outputs": [
    {
     "name": "stdout",
     "output_type": "stream",
     "text": [
      "[1.05555874e+09 1.15288852e+10 1.99605515e-02]\n"
     ]
    },
    {
     "data": {
      "text/plain": [
       "[<matplotlib.lines.Line2D at 0x259dfeaaf40>]"
      ]
     },
     "execution_count": 11,
     "metadata": {},
     "output_type": "execute_result"
    },
    {
     "data": {
      "image/png": "[encoded data removed]",
      "text/plain": [
       "<Figure size 640x480 with 1 Axes>"
      ]
     },
     "metadata": {},
     "output_type": "display_data"
    }
   ],
   "source": [
    "pop200 = pd.read_csv('pop200.csv') #reading in an example csv file/ this file is not in this github\n",
    "x= pop200['time'] #masking time as the x variable\n",
    "y=pop200['population'] #masking population as the y variable\n",
    "plt.scatter(x,y) #plotting points from the csv file\n",
    "\n",
    "def pequa(t,p,c,k): #defining the function\n",
    "    a = (c-p)/p #eq 2\n",
    "    p = c/(1+(a*np.exp(-1*k*t))) #eq 2\n",
    "    return p #returning p(t)\n",
    "\n",
    "popt, pcov = curve_fit(pequa,x,y,p0=[8*10**8,1*10**10,1]) #using our import function for a prediction model \n",
    "print(popt)\n",
    "pval = popt[0]\n",
    "cval = popt[1]\n",
    "kval = popt[2]\n",
    "fitline = pequa(x,pval,cval,kval)\n",
    "plt.plot(x,fitline)"
   ]
  },
  {
   "cell_type": "markdown",
   "id": "8798214c",
   "metadata": {},
   "source": [
    "### ODE"
   ]
  },
  {
   "cell_type": "markdown",
   "id": "c3f706f5",
   "metadata": {},
   "source": [
    "Ordinary Differential equations and other numerical methods can be used to approximate the intergral of a Differential Eq. Using the same equations as above we will find the approximate answer using ODEs "
   ]
  },
  {
   "cell_type": "code",
   "execution_count": 15,
   "id": "d65f8724",
   "metadata": {},
   "outputs": [],
   "source": [
    "def pop_func_exact_sol(time,pinitial,bigc,littlek):\n",
    "    a = (bigc - pinitial)/pinitial\n",
    "    pop = bigc/(1 + a*np.exp(-1.0*littlek*time))\n",
    "    return pop \n",
    "def derivs(p,k,c):\n",
    "    der = k*p*(1-(p/c))\n",
    "    return der"
   ]
  },
  {
   "cell_type": "code",
   "execution_count": 16,
   "id": "9c00d526",
   "metadata": {},
   "outputs": [
    {
     "data": {
      "text/plain": [
       "<matplotlib.legend.Legend at 0x259dff4e370>"
      ]
     },
     "execution_count": 16,
     "metadata": {},
     "output_type": "execute_result"
    },
    {
     "data": {
      "image/png": "[encoded data removed]",
      "text/plain": [
       "<Figure size 640x480 with 1 Axes>"
      ]
     },
     "metadata": {},
     "output_type": "display_data"
    }
   ],
   "source": [
    "deltat = np.arange(0,500,50) #time steps from 0 to 450 with steps of 50\n",
    "p0 = 1.0e9 \n",
    "k1=.01\n",
    "c1=1.2e10\n",
    "newpop = 1.0e9\n",
    "oldpop = 1.0e9\n",
    "pop = [p0]\n",
    "for i in deltat: \n",
    "    newpop = derivs(p=oldpop,k=k1,c=c1)*50+oldpop\n",
    "    pop.append(newpop)\n",
    "    oldpop=newpop\n",
    "    \n",
    "exact = pop_func_exact_sol(deltat, pinitial= 1e9, bigc = 1.2e10, littlek=.01)\n",
    "plt.plot(exact, label='exact')\n",
    "plt.plot(pop, label='est')\n",
    "plt.legend()"
   ]
  },
  {
   "cell_type": "markdown",
   "id": "9a2d4ad4",
   "metadata": {},
   "source": [
    "## Image Analysis"
   ]
  },
  {
   "cell_type": "markdown",
   "id": "8fa21050",
   "metadata": {},
   "source": [
    "Day 21-25 left to do "
   ]
  },
  {
   "cell_type": "code",
   "execution_count": null,
   "id": "b8382a32",
   "metadata": {},
   "outputs": [],
   "source": []
  }
 ],
 "metadata": {
  "kernelspec": {
   "display_name": "Python 3",
   "language": "python",
   "name": "python3"
  },
  "language_info": {
   "codemirror_mode": {
    "name": "ipython",
    "version": 3
   },
   "file_extension": ".py",
   "mimetype": "text/x-python",
   "name": "python",
   "nbconvert_exporter": "python",
   "pygments_lexer": "ipython3",
   "version": "3.9.13"
  }
 },
 "nbformat": 4,
 "nbformat_minor": 5
}
